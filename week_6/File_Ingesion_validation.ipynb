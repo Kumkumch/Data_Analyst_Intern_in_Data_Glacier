{
 "cells": [
  {
   "cell_type": "markdown",
   "id": "a9c46c87",
   "metadata": {},
   "source": [
    "Task: File Ingestion and Schema validation\n"
   ]
  },
  {
   "cell_type": "markdown",
   "id": "205fbd3c",
   "metadata": {},
   "source": [
    "ake any csv/text file of 2+ GB of your choice. --- (You can do this assignment on Google colab)\n",
    "\n",
    "Read the file ( Present approach of reading the file )\n",
    "\n",
    "Try different methods of file reading eg: Dask, Modin, Ray, pandas and present your findings in term of computational efficiency\n",
    "\n",
    "Perform basic validation on data columns : eg: remove special character , white spaces from the col name\n",
    "\n",
    "As you already know the schema hence create a YAML file and write the column name in YAML file. --define separator of read and write file, column name in YAML\n",
    "\n",
    "Validate number of columns and column name of ingested file with YAML.\n",
    "\n",
    "Write the file in pipe separated text file (|) in gz format.\n",
    "\n",
    "Create a summary of the file:\n",
    "\n",
    "Total number of rows,\n",
    "\n",
    "total number of columns\n",
    "\n",
    "file size\n",
    "\n"
   ]
  },
  {
   "cell_type": "code",
   "execution_count": 1,
   "id": "49fec451",
   "metadata": {},
   "outputs": [
    {
     "name": "stdout",
     "output_type": "stream",
     "text": [
      "Requirement already satisfied: ray in c:\\users\\subhendu\\anaconda3\\lib\\site-packages (2.44.0)\n",
      "Requirement already satisfied: pyyaml in c:\\users\\subhendu\\anaconda3\\lib\\site-packages (6.0.1)\n",
      "Requirement already satisfied: dask[complete] in c:\\users\\subhendu\\anaconda3\\lib\\site-packages (2023.11.0)\n",
      "Requirement already satisfied: modin[ray] in c:\\users\\subhendu\\anaconda3\\lib\\site-packages (0.32.0)\n",
      "Requirement already satisfied: click>=8.1 in c:\\users\\subhendu\\anaconda3\\lib\\site-packages (from dask[complete]) (8.1.7)\n",
      "Requirement already satisfied: cloudpickle>=1.5.0 in c:\\users\\subhendu\\anaconda3\\lib\\site-packages (from dask[complete]) (2.2.1)\n",
      "Requirement already satisfied: fsspec>=2021.09.0 in c:\\users\\subhendu\\anaconda3\\lib\\site-packages (from dask[complete]) (2023.10.0)\n",
      "Requirement already satisfied: packaging>=20.0 in c:\\users\\subhendu\\anaconda3\\lib\\site-packages (from dask[complete]) (23.1)\n",
      "Requirement already satisfied: partd>=1.2.0 in c:\\users\\subhendu\\anaconda3\\lib\\site-packages (from dask[complete]) (1.4.1)\n",
      "Requirement already satisfied: toolz>=0.10.0 in c:\\users\\subhendu\\anaconda3\\lib\\site-packages (from dask[complete]) (0.12.0)\n",
      "Requirement already satisfied: importlib-metadata>=4.13.0 in c:\\users\\subhendu\\anaconda3\\lib\\site-packages (from dask[complete]) (7.0.1)\n",
      "Requirement already satisfied: pyarrow>=7.0 in c:\\users\\subhendu\\anaconda3\\lib\\site-packages (from dask[complete]) (14.0.2)\n",
      "Collecting pyarrow-hotfix (from dask[complete])\n",
      "  Downloading pyarrow_hotfix-0.6-py3-none-any.whl.metadata (3.6 kB)\n",
      "Requirement already satisfied: lz4>=4.3.2 in c:\\users\\subhendu\\anaconda3\\lib\\site-packages (from dask[complete]) (4.3.2)\n",
      "Requirement already satisfied: pandas<2.3,>=2.2 in c:\\users\\subhendu\\anaconda3\\lib\\site-packages (from modin[ray]) (2.2.0)\n",
      "Requirement already satisfied: numpy>=1.22.4 in c:\\users\\subhendu\\anaconda3\\lib\\site-packages (from modin[ray]) (1.26.4)\n",
      "Requirement already satisfied: psutil>=5.8.0 in c:\\users\\subhendu\\anaconda3\\lib\\site-packages (from modin[ray]) (5.9.0)\n",
      "Requirement already satisfied: filelock in c:\\users\\subhendu\\anaconda3\\lib\\site-packages (from ray) (3.13.1)\n",
      "Requirement already satisfied: jsonschema in c:\\users\\subhendu\\anaconda3\\lib\\site-packages (from ray) (4.19.2)\n",
      "Requirement already satisfied: msgpack<2.0.0,>=1.0.0 in c:\\users\\subhendu\\anaconda3\\lib\\site-packages (from ray) (1.0.3)\n",
      "Requirement already satisfied: protobuf!=3.19.5,>=3.15.3 in c:\\users\\subhendu\\anaconda3\\lib\\site-packages (from ray) (3.20.3)\n",
      "Requirement already satisfied: aiosignal in c:\\users\\subhendu\\anaconda3\\lib\\site-packages (from ray) (1.2.0)\n",
      "Requirement already satisfied: frozenlist in c:\\users\\subhendu\\anaconda3\\lib\\site-packages (from ray) (1.4.0)\n",
      "Requirement already satisfied: requests in c:\\users\\subhendu\\anaconda3\\lib\\site-packages (from ray) (2.31.0)\n",
      "Requirement already satisfied: colorama in c:\\users\\subhendu\\anaconda3\\lib\\site-packages (from click>=8.1->dask[complete]) (0.4.6)\n",
      "Requirement already satisfied: zipp>=0.5 in c:\\users\\subhendu\\anaconda3\\lib\\site-packages (from importlib-metadata>=4.13.0->dask[complete]) (3.17.0)\n",
      "Requirement already satisfied: python-dateutil>=2.8.2 in c:\\users\\subhendu\\anaconda3\\lib\\site-packages (from pandas<2.3,>=2.2->modin[ray]) (2.8.2)\n",
      "Requirement already satisfied: pytz>=2020.1 in c:\\users\\subhendu\\anaconda3\\lib\\site-packages (from pandas<2.3,>=2.2->modin[ray]) (2023.3.post1)\n",
      "Requirement already satisfied: tzdata>=2022.7 in c:\\users\\subhendu\\anaconda3\\lib\\site-packages (from pandas<2.3,>=2.2->modin[ray]) (2023.3)\n",
      "Requirement already satisfied: locket in c:\\users\\subhendu\\anaconda3\\lib\\site-packages (from partd>=1.2.0->dask[complete]) (1.0.0)\n",
      "Requirement already satisfied: bokeh>=2.4.2 in c:\\users\\subhendu\\anaconda3\\lib\\site-packages (from dask[complete]) (3.3.4)\n",
      "Requirement already satisfied: jinja2>=2.10.3 in c:\\users\\subhendu\\anaconda3\\lib\\site-packages (from dask[complete]) (3.1.3)\n",
      "Requirement already satisfied: distributed==2023.11.0 in c:\\users\\subhendu\\anaconda3\\lib\\site-packages (from dask[complete]) (2023.11.0)\n",
      "Requirement already satisfied: sortedcontainers>=2.0.5 in c:\\users\\subhendu\\anaconda3\\lib\\site-packages (from distributed==2023.11.0->dask[complete]) (2.4.0)\n",
      "Requirement already satisfied: tblib>=1.6.0 in c:\\users\\subhendu\\anaconda3\\lib\\site-packages (from distributed==2023.11.0->dask[complete]) (1.7.0)\n",
      "Requirement already satisfied: tornado>=6.0.4 in c:\\users\\subhendu\\anaconda3\\lib\\site-packages (from distributed==2023.11.0->dask[complete]) (6.3.3)\n",
      "Requirement already satisfied: urllib3>=1.24.3 in c:\\users\\subhendu\\anaconda3\\lib\\site-packages (from distributed==2023.11.0->dask[complete]) (2.0.7)\n",
      "Requirement already satisfied: zict>=3.0.0 in c:\\users\\subhendu\\anaconda3\\lib\\site-packages (from distributed==2023.11.0->dask[complete]) (3.0.0)\n",
      "Requirement already satisfied: attrs>=22.2.0 in c:\\users\\subhendu\\anaconda3\\lib\\site-packages (from jsonschema->ray) (23.1.0)\n",
      "Requirement already satisfied: jsonschema-specifications>=2023.03.6 in c:\\users\\subhendu\\anaconda3\\lib\\site-packages (from jsonschema->ray) (2023.7.1)\n",
      "Requirement already satisfied: referencing>=0.28.4 in c:\\users\\subhendu\\anaconda3\\lib\\site-packages (from jsonschema->ray) (0.30.2)\n",
      "Requirement already satisfied: rpds-py>=0.7.1 in c:\\users\\subhendu\\anaconda3\\lib\\site-packages (from jsonschema->ray) (0.10.6)\n",
      "Requirement already satisfied: charset-normalizer<4,>=2 in c:\\users\\subhendu\\anaconda3\\lib\\site-packages (from requests->ray) (2.0.4)\n",
      "Requirement already satisfied: idna<4,>=2.5 in c:\\users\\subhendu\\anaconda3\\lib\\site-packages (from requests->ray) (3.4)\n",
      "Requirement already satisfied: certifi>=2017.4.17 in c:\\users\\subhendu\\anaconda3\\lib\\site-packages (from requests->ray) (2025.1.31)\n",
      "Requirement already satisfied: contourpy>=1 in c:\\users\\subhendu\\anaconda3\\lib\\site-packages (from bokeh>=2.4.2->dask[complete]) (1.2.0)\n",
      "Requirement already satisfied: pillow>=7.1.0 in c:\\users\\subhendu\\anaconda3\\lib\\site-packages (from bokeh>=2.4.2->dask[complete]) (10.2.0)\n",
      "Requirement already satisfied: xyzservices>=2021.09.1 in c:\\users\\subhendu\\anaconda3\\lib\\site-packages (from bokeh>=2.4.2->dask[complete]) (2022.9.0)\n",
      "Requirement already satisfied: MarkupSafe>=2.0 in c:\\users\\subhendu\\anaconda3\\lib\\site-packages (from jinja2>=2.10.3->dask[complete]) (2.1.3)\n",
      "Requirement already satisfied: six>=1.5 in c:\\users\\subhendu\\anaconda3\\lib\\site-packages (from python-dateutil>=2.8.2->pandas<2.3,>=2.2->modin[ray]) (1.16.0)\n",
      "Downloading pyarrow_hotfix-0.6-py3-none-any.whl (7.9 kB)\n",
      "Installing collected packages: pyarrow-hotfix\n",
      "Successfully installed pyarrow-hotfix-0.6\n"
     ]
    }
   ],
   "source": [
    "!pip install dask[complete] modin[ray] ray pyyaml\n"
   ]
  },
  {
   "cell_type": "code",
   "execution_count": 2,
   "id": "62c566d8",
   "metadata": {},
   "outputs": [
    {
     "name": "stderr",
     "output_type": "stream",
     "text": [
      "2025-03-25 10:22:11,584\tINFO util.py:154 -- Outdated packages:\n",
      "  ipywidgets==7.6.5 found, needs ipywidgets>=8\n",
      "Run `pip install -U ipywidgets`, then restart the notebook server for rich notebook output.\n"
     ]
    }
   ],
   "source": [
    "import pandas as pd\n",
    "import dask.dataframe as dd\n",
    "import modin.pandas as mpd\n",
    "import ray\n",
    "import yaml\n",
    "import os\n",
    "import time\n"
   ]
  },
  {
   "cell_type": "code",
   "execution_count": 3,
   "id": "ba0dcbba",
   "metadata": {},
   "outputs": [
    {
     "name": "stdout",
     "output_type": "stream",
     "text": [
      "Requirement already satisfied: ipywidgets in c:\\users\\subhendu\\anaconda3\\lib\\site-packages (7.6.5)\n",
      "Collecting ipywidgets\n",
      "  Downloading ipywidgets-8.1.5-py3-none-any.whl.metadata (2.3 kB)\n",
      "Collecting comm>=0.1.3 (from ipywidgets)\n",
      "  Downloading comm-0.2.2-py3-none-any.whl.metadata (3.7 kB)\n",
      "Requirement already satisfied: ipython>=6.1.0 in c:\\users\\subhendu\\anaconda3\\lib\\site-packages (from ipywidgets) (8.20.0)\n",
      "Requirement already satisfied: traitlets>=4.3.1 in c:\\users\\subhendu\\anaconda3\\lib\\site-packages (from ipywidgets) (5.7.1)\n",
      "Collecting widgetsnbextension~=4.0.12 (from ipywidgets)\n",
      "  Downloading widgetsnbextension-4.0.13-py3-none-any.whl.metadata (1.6 kB)\n",
      "Collecting jupyterlab-widgets~=3.0.12 (from ipywidgets)\n",
      "  Downloading jupyterlab_widgets-3.0.13-py3-none-any.whl.metadata (4.1 kB)\n",
      "Requirement already satisfied: decorator in c:\\users\\subhendu\\anaconda3\\lib\\site-packages (from ipython>=6.1.0->ipywidgets) (5.1.1)\n",
      "Requirement already satisfied: jedi>=0.16 in c:\\users\\subhendu\\anaconda3\\lib\\site-packages (from ipython>=6.1.0->ipywidgets) (0.18.1)\n",
      "Requirement already satisfied: matplotlib-inline in c:\\users\\subhendu\\anaconda3\\lib\\site-packages (from ipython>=6.1.0->ipywidgets) (0.1.6)\n",
      "Requirement already satisfied: prompt-toolkit<3.1.0,>=3.0.41 in c:\\users\\subhendu\\anaconda3\\lib\\site-packages (from ipython>=6.1.0->ipywidgets) (3.0.43)\n",
      "Requirement already satisfied: pygments>=2.4.0 in c:\\users\\subhendu\\anaconda3\\lib\\site-packages (from ipython>=6.1.0->ipywidgets) (2.15.1)\n",
      "Requirement already satisfied: stack-data in c:\\users\\subhendu\\anaconda3\\lib\\site-packages (from ipython>=6.1.0->ipywidgets) (0.2.0)\n",
      "Requirement already satisfied: colorama in c:\\users\\subhendu\\anaconda3\\lib\\site-packages (from ipython>=6.1.0->ipywidgets) (0.4.6)\n",
      "Requirement already satisfied: parso<0.9.0,>=0.8.0 in c:\\users\\subhendu\\anaconda3\\lib\\site-packages (from jedi>=0.16->ipython>=6.1.0->ipywidgets) (0.8.3)\n",
      "Requirement already satisfied: wcwidth in c:\\users\\subhendu\\anaconda3\\lib\\site-packages (from prompt-toolkit<3.1.0,>=3.0.41->ipython>=6.1.0->ipywidgets) (0.2.5)\n",
      "Requirement already satisfied: executing in c:\\users\\subhendu\\anaconda3\\lib\\site-packages (from stack-data->ipython>=6.1.0->ipywidgets) (0.8.3)\n",
      "Requirement already satisfied: asttokens in c:\\users\\subhendu\\anaconda3\\lib\\site-packages (from stack-data->ipython>=6.1.0->ipywidgets) (2.0.5)\n",
      "Requirement already satisfied: pure-eval in c:\\users\\subhendu\\anaconda3\\lib\\site-packages (from stack-data->ipython>=6.1.0->ipywidgets) (0.2.2)\n",
      "Requirement already satisfied: six in c:\\users\\subhendu\\anaconda3\\lib\\site-packages (from asttokens->stack-data->ipython>=6.1.0->ipywidgets) (1.16.0)\n",
      "Downloading ipywidgets-8.1.5-py3-none-any.whl (139 kB)\n",
      "   ---------------------------------------- 0.0/139.8 kB ? eta -:--:--\n",
      "   -------------------------------------- - 133.1/139.8 kB 4.0 MB/s eta 0:00:01\n",
      "   ---------------------------------------- 139.8/139.8 kB 2.8 MB/s eta 0:00:00\n",
      "Downloading comm-0.2.2-py3-none-any.whl (7.2 kB)\n",
      "Downloading jupyterlab_widgets-3.0.13-py3-none-any.whl (214 kB)\n",
      "   ---------------------------------------- 0.0/214.4 kB ? eta -:--:--\n",
      "   ---------------------------------------- 214.4/214.4 kB 6.6 MB/s eta 0:00:00\n",
      "Downloading widgetsnbextension-4.0.13-py3-none-any.whl (2.3 MB)\n",
      "   ---------------------------------------- 0.0/2.3 MB ? eta -:--:--\n",
      "   ------- -------------------------------- 0.5/2.3 MB 14.2 MB/s eta 0:00:01\n",
      "   ---------------------------- ----------- 1.6/2.3 MB 26.4 MB/s eta 0:00:01\n",
      "   ---------------------------------------- 2.3/2.3 MB 21.3 MB/s eta 0:00:00\n",
      "Installing collected packages: widgetsnbextension, jupyterlab-widgets, comm, ipywidgets\n",
      "  Attempting uninstall: widgetsnbextension\n",
      "    Found existing installation: widgetsnbextension 3.5.2\n",
      "    Uninstalling widgetsnbextension-3.5.2:\n",
      "      Successfully uninstalled widgetsnbextension-3.5.2\n",
      "  Attempting uninstall: jupyterlab-widgets\n",
      "    Found existing installation: jupyterlab-widgets 3.0.9\n",
      "    Uninstalling jupyterlab-widgets-3.0.9:\n",
      "      Successfully uninstalled jupyterlab-widgets-3.0.9\n",
      "  Attempting uninstall: comm\n",
      "    Found existing installation: comm 0.1.2\n",
      "    Uninstalling comm-0.1.2:\n",
      "      Successfully uninstalled comm-0.1.2\n",
      "  Attempting uninstall: ipywidgets\n",
      "    Found existing installation: ipywidgets 7.6.5\n",
      "    Uninstalling ipywidgets-7.6.5:\n",
      "      Successfully uninstalled ipywidgets-7.6.5\n",
      "Successfully installed comm-0.2.2 ipywidgets-8.1.5 jupyterlab-widgets-3.0.13 widgetsnbextension-4.0.13\n",
      "Note: you may need to restart the kernel to use updated packages.\n"
     ]
    }
   ],
   "source": [
    "pip install -U ipywidgets\n"
   ]
  },
  {
   "cell_type": "code",
   "execution_count": 1,
   "id": "1c4a4072",
   "metadata": {},
   "outputs": [],
   "source": [
    "import pandas as pd\n",
    "import dask.dataframe as dd\n",
    "import modin.pandas as mpd\n",
    "import ray\n",
    "import yaml\n",
    "import os\n",
    "import time\n"
   ]
  },
  {
   "cell_type": "markdown",
   "id": "a4d4971c",
   "metadata": {},
   "source": [
    "Read the Data"
   ]
  },
  {
   "cell_type": "code",
   "execution_count": 82,
   "id": "c68e5806",
   "metadata": {},
   "outputs": [
    {
     "name": "stdout",
     "output_type": "stream",
     "text": [
      "   BusinessYear StateCode  IssuerId SourceName           ImportDate  \\\n",
      "0          2025        AK     21989       HIOS  2024-08-29 01:02:15   \n",
      "1          2025        AK     21989       HIOS  2024-08-29 01:02:15   \n",
      "2          2025        AK     21989       HIOS  2024-08-29 01:02:15   \n",
      "3          2025        AK     21989       HIOS  2024-08-29 01:02:15   \n",
      "4          2025        AK     21989       HIOS  2024-08-29 01:02:15   \n",
      "\n",
      "  RateEffectiveDate RateExpirationDate          PlanId   RatingAreaId Tobacco  \\\n",
      "0        2025-10-01         2025-12-31  21989AK0130001  Rating Area 1     NaN   \n",
      "1        2025-01-01         2025-03-31  21989AK0130001  Rating Area 1     NaN   \n",
      "2        2025-04-01         2025-06-30  21989AK0130001  Rating Area 1     NaN   \n",
      "3        2025-07-01         2025-09-30  21989AK0130001  Rating Area 1     NaN   \n",
      "4        2025-07-01         2025-09-30  21989AK0130001  Rating Area 2     NaN   \n",
      "\n",
      "             Age  IndividualRate  IndividualTobaccoRate  Couple  \\\n",
      "0  Family Option           71.83                    NaN  149.41   \n",
      "1  Family Option           69.24                    NaN  144.02   \n",
      "2  Family Option           70.10                    NaN  145.81   \n",
      "3  Family Option           70.97                    NaN  147.62   \n",
      "4  Family Option           67.42                    NaN  140.23   \n",
      "\n",
      "   PrimarySubscriberAndOneDependent  PrimarySubscriberAndTwoDependents  \\\n",
      "0                            172.40                             172.40   \n",
      "1                            166.17                             166.17   \n",
      "2                            168.25                             168.25   \n",
      "3                            170.33                             170.33   \n",
      "4                            161.81                             161.81   \n",
      "\n",
      "   PrimarySubscriberAndThreeOrMoreDependents  CoupleAndOneDependent  \\\n",
      "0                                     172.40                 257.17   \n",
      "1                                     166.17                 247.87   \n",
      "2                                     168.25                 250.97   \n",
      "3                                     170.33                 254.07   \n",
      "4                                     161.81                 241.36   \n",
      "\n",
      "   CoupleAndTwoDependents  CoupleAndThreeOrMoreDependents  \n",
      "0                  257.17                          257.17  \n",
      "1                  247.87                          247.87  \n",
      "2                  250.97                          250.97  \n",
      "3                  254.07                          254.07  \n",
      "4                  241.36                          241.36  \n"
     ]
    }
   ],
   "source": [
    "# Using pandas to read CSV file\n",
    "df_pandas = pd.read_csv(r'C:\\Users\\Subhendu\\week6\\rate-puf.csv')\n",
    "print(df_pandas.head())\n"
   ]
  },
  {
   "cell_type": "code",
   "execution_count": 83,
   "id": "242dd493",
   "metadata": {},
   "outputs": [
    {
     "name": "stdout",
     "output_type": "stream",
     "text": [
      "<class 'dask.dataframe.core.DataFrame'>\n",
      "Columns: 20 entries, BusinessYear to CoupleAndThreeOrMoreDependents\n",
      "dtypes: float64(9), int64(2), string(9)"
     ]
    }
   ],
   "source": [
    "df.info()"
   ]
  },
  {
   "cell_type": "code",
   "execution_count": 85,
   "id": "510a13ba",
   "metadata": {},
   "outputs": [
    {
     "data": {
      "text/plain": [
       "2418441"
      ]
     },
     "execution_count": 85,
     "metadata": {},
     "output_type": "execute_result"
    }
   ],
   "source": [
    "#No. of Rows\n",
    "len(df.index)"
   ]
  },
  {
   "cell_type": "code",
   "execution_count": 86,
   "id": "a9915988",
   "metadata": {},
   "outputs": [
    {
     "data": {
      "text/plain": [
       "20"
      ]
     },
     "execution_count": 86,
     "metadata": {},
     "output_type": "execute_result"
    }
   ],
   "source": [
    "#No, of Columns\n",
    "len(df.columns)"
   ]
  },
  {
   "cell_type": "code",
   "execution_count": 4,
   "id": "bc2462e6",
   "metadata": {},
   "outputs": [
    {
     "name": "stdout",
     "output_type": "stream",
     "text": [
      "Time taken by Pandas: 5.135478258132935 seconds\n"
     ]
    }
   ],
   "source": [
    "# Method 1: Pandas\n",
    "start_time = time.time()\n",
    "df_pandas = pd.read_csv(r'C:\\Users\\Subhendu\\week6\\rate-puf.csv')\n",
    "end_time = time.time()\n",
    "time_pandas = end_time - start_time\n",
    "print(\"Time taken by Pandas:\", time_pandas, \"seconds\")"
   ]
  },
  {
   "cell_type": "code",
   "execution_count": 10,
   "id": "6c710290",
   "metadata": {},
   "outputs": [
    {
     "name": "stdout",
     "output_type": "stream",
     "text": [
      "Requirement already satisfied: modin[ray] in c:\\users\\subhendu\\anaconda3\\lib\\site-packages (0.32.0)\n",
      "Requirement already satisfied: pandas<2.3,>=2.2 in c:\\users\\subhendu\\anaconda3\\lib\\site-packages (from modin[ray]) (2.2.0)\n",
      "Requirement already satisfied: packaging>=21.0 in c:\\users\\subhendu\\anaconda3\\lib\\site-packages (from modin[ray]) (23.1)\n",
      "Requirement already satisfied: numpy>=1.22.4 in c:\\users\\subhendu\\anaconda3\\lib\\site-packages (from modin[ray]) (1.26.4)\n",
      "Requirement already satisfied: fsspec>=2022.11.0 in c:\\users\\subhendu\\anaconda3\\lib\\site-packages (from modin[ray]) (2023.10.0)\n",
      "Requirement already satisfied: psutil>=5.8.0 in c:\\users\\subhendu\\anaconda3\\lib\\site-packages (from modin[ray]) (5.9.0)\n",
      "Requirement already satisfied: ray!=2.5.0,>=2.1.0 in c:\\users\\subhendu\\anaconda3\\lib\\site-packages (from modin[ray]) (2.44.0)\n",
      "Requirement already satisfied: pyarrow>=10.0.1 in c:\\users\\subhendu\\anaconda3\\lib\\site-packages (from modin[ray]) (14.0.2)\n",
      "Requirement already satisfied: python-dateutil>=2.8.2 in c:\\users\\subhendu\\anaconda3\\lib\\site-packages (from pandas<2.3,>=2.2->modin[ray]) (2.8.2)\n",
      "Requirement already satisfied: pytz>=2020.1 in c:\\users\\subhendu\\anaconda3\\lib\\site-packages (from pandas<2.3,>=2.2->modin[ray]) (2023.3.post1)\n",
      "Requirement already satisfied: tzdata>=2022.7 in c:\\users\\subhendu\\anaconda3\\lib\\site-packages (from pandas<2.3,>=2.2->modin[ray]) (2023.3)\n",
      "Requirement already satisfied: click>=7.0 in c:\\users\\subhendu\\anaconda3\\lib\\site-packages (from ray!=2.5.0,>=2.1.0->modin[ray]) (8.1.7)\n",
      "Requirement already satisfied: filelock in c:\\users\\subhendu\\anaconda3\\lib\\site-packages (from ray!=2.5.0,>=2.1.0->modin[ray]) (3.13.1)\n",
      "Requirement already satisfied: jsonschema in c:\\users\\subhendu\\anaconda3\\lib\\site-packages (from ray!=2.5.0,>=2.1.0->modin[ray]) (4.19.2)\n",
      "Requirement already satisfied: msgpack<2.0.0,>=1.0.0 in c:\\users\\subhendu\\anaconda3\\lib\\site-packages (from ray!=2.5.0,>=2.1.0->modin[ray]) (1.0.3)\n",
      "Requirement already satisfied: protobuf!=3.19.5,>=3.15.3 in c:\\users\\subhendu\\anaconda3\\lib\\site-packages (from ray!=2.5.0,>=2.1.0->modin[ray]) (3.20.3)\n",
      "Requirement already satisfied: pyyaml in c:\\users\\subhendu\\anaconda3\\lib\\site-packages (from ray!=2.5.0,>=2.1.0->modin[ray]) (6.0.1)\n",
      "Requirement already satisfied: aiosignal in c:\\users\\subhendu\\anaconda3\\lib\\site-packages (from ray!=2.5.0,>=2.1.0->modin[ray]) (1.2.0)\n",
      "Requirement already satisfied: frozenlist in c:\\users\\subhendu\\anaconda3\\lib\\site-packages (from ray!=2.5.0,>=2.1.0->modin[ray]) (1.4.0)\n",
      "Requirement already satisfied: requests in c:\\users\\subhendu\\anaconda3\\lib\\site-packages (from ray!=2.5.0,>=2.1.0->modin[ray]) (2.31.0)\n",
      "Requirement already satisfied: colorama in c:\\users\\subhendu\\anaconda3\\lib\\site-packages (from click>=7.0->ray!=2.5.0,>=2.1.0->modin[ray]) (0.4.6)\n",
      "Requirement already satisfied: six>=1.5 in c:\\users\\subhendu\\anaconda3\\lib\\site-packages (from python-dateutil>=2.8.2->pandas<2.3,>=2.2->modin[ray]) (1.16.0)\n",
      "Requirement already satisfied: attrs>=22.2.0 in c:\\users\\subhendu\\anaconda3\\lib\\site-packages (from jsonschema->ray!=2.5.0,>=2.1.0->modin[ray]) (23.1.0)\n",
      "Requirement already satisfied: jsonschema-specifications>=2023.03.6 in c:\\users\\subhendu\\anaconda3\\lib\\site-packages (from jsonschema->ray!=2.5.0,>=2.1.0->modin[ray]) (2023.7.1)\n",
      "Requirement already satisfied: referencing>=0.28.4 in c:\\users\\subhendu\\anaconda3\\lib\\site-packages (from jsonschema->ray!=2.5.0,>=2.1.0->modin[ray]) (0.30.2)\n",
      "Requirement already satisfied: rpds-py>=0.7.1 in c:\\users\\subhendu\\anaconda3\\lib\\site-packages (from jsonschema->ray!=2.5.0,>=2.1.0->modin[ray]) (0.10.6)\n",
      "Requirement already satisfied: charset-normalizer<4,>=2 in c:\\users\\subhendu\\anaconda3\\lib\\site-packages (from requests->ray!=2.5.0,>=2.1.0->modin[ray]) (2.0.4)\n",
      "Requirement already satisfied: idna<4,>=2.5 in c:\\users\\subhendu\\anaconda3\\lib\\site-packages (from requests->ray!=2.5.0,>=2.1.0->modin[ray]) (3.4)\n",
      "Requirement already satisfied: urllib3<3,>=1.21.1 in c:\\users\\subhendu\\anaconda3\\lib\\site-packages (from requests->ray!=2.5.0,>=2.1.0->modin[ray]) (2.0.7)\n",
      "Requirement already satisfied: certifi>=2017.4.17 in c:\\users\\subhendu\\anaconda3\\lib\\site-packages (from requests->ray!=2.5.0,>=2.1.0->modin[ray]) (2025.1.31)\n",
      "Note: you may need to restart the kernel to use updated packages.\n"
     ]
    }
   ],
   "source": [
    "pip install modin[ray]\n"
   ]
  },
  {
   "cell_type": "code",
   "execution_count": 3,
   "id": "93769d75",
   "metadata": {},
   "outputs": [],
   "source": [
    "import time"
   ]
  },
  {
   "cell_type": "code",
   "execution_count": 88,
   "id": "8e00ebba",
   "metadata": {},
   "outputs": [
    {
     "name": "stdout",
     "output_type": "stream",
     "text": [
      "Time taken by Modin: 4.16 seconds\n"
     ]
    }
   ],
   "source": [
    "import modin.pandas as pd  \n",
    "import time  \n",
    "\n",
    "# Modin timing  \n",
    "start_time = time.time()  \n",
    "df_modin = pd.read_csv(r'C:\\Users\\Subhendu\\week6\\rate-puf.csv')  \n",
    "modin_time = time.time() - start_time  \n",
    "\n",
    "print(f\"Time taken by Modin: {modin_time:.2f} seconds\")  \n"
   ]
  },
  {
   "cell_type": "code",
   "execution_count": 92,
   "id": "9813ac9b",
   "metadata": {},
   "outputs": [
    {
     "name": "stderr",
     "output_type": "stream",
     "text": [
      "2025-03-25 20:55:53,261\tINFO worker.py:1684 -- Calling ray.init() again after it has already been called.\n"
     ]
    },
    {
     "name": "stdout",
     "output_type": "stream",
     "text": [
      "Ray Time: 0.01 seconds\n"
     ]
    }
   ],
   "source": [
    "import ray  # Import Ray\n",
    "import time  # Import time module for timing\n",
    "\n",
    "ray.init(ignore_reinit_error=True)  # Initialize Ray\n",
    "\n",
    "# Ray timing\n",
    "start_time = time.time()\n",
    "df_ray = ray.data.read_csv(r'C:\\Users\\Subhendu\\week6\\rate-puf.csv')  \n",
    "ray_time = time.time() - start_time\n",
    "\n",
    "print(f\"Ray Time: {ray_time:.2f} seconds\")\n"
   ]
  },
  {
   "cell_type": "code",
   "execution_count": 91,
   "id": "cec7c7a6",
   "metadata": {},
   "outputs": [
    {
     "name": "stdout",
     "output_type": "stream",
     "text": [
      "Dask Time: 6.77 seconds\n"
     ]
    }
   ],
   "source": [
    "import dask.dataframe as dd\n",
    "import time\n",
    "\n",
    "# Specify dtypes explicitly\n",
    "dtype_dict = {'Tobacco': 'object'}  # Define Tobacco as a string column\n",
    "\n",
    "# Read CSV using Dask\n",
    "start_time = time.time()\n",
    "df_dask = dd.read_csv(r'C:\\Users\\Subhendu\\week6\\rate-puf.csv', dtype=dtype_dict)\n",
    "df_dask = df_dask.compute()  # Convert to Pandas DataFrame if needed\n",
    "end_time = time.time()\n",
    "\n",
    "print(f\"Dask Time: {end_time - start_time:.2f} seconds\")\n"
   ]
  },
  {
   "cell_type": "markdown",
   "id": "3a9afedb",
   "metadata": {},
   "source": [
    "Here Ray is better than Pandas, Modin and Ray, with the least reading time of 0.01 sec"
   ]
  },
  {
   "cell_type": "code",
   "execution_count": 17,
   "id": "591a2ac8",
   "metadata": {},
   "outputs": [],
   "source": [
    "# Perform basic validation on data columns\n",
    "\n",
    "df = pd.read_csv(r'C:\\Users\\Subhendu\\week6\\rate-puf.csv')\n",
    "\n",
    "# remove special characters from column names\n",
    "df.columns = df.columns.str.replace('[^a-zA-Z0-9]+', '_')\n",
    "\n",
    "# remove whitespaces from column names\n",
    "df.columns = df.columns.str.strip().str.lower()\n",
    "\n",
    "# check for missing values in each column\n",
    "missing_values = df.isnull().sum()\n",
    "\n",
    "# check for duplicates\n",
    "duplicates = df[df.duplicated()]"
   ]
  },
  {
   "cell_type": "code",
   "execution_count": null,
   "id": "32eb6385",
   "metadata": {},
   "outputs": [],
   "source": []
  },
  {
   "cell_type": "code",
   "execution_count": 18,
   "id": "eae10512",
   "metadata": {},
   "outputs": [
    {
     "name": "stdout",
     "output_type": "stream",
     "text": [
      "['businessyear', 'statecode', 'issuerid', 'sourcename', 'importdate', 'rateeffectivedate', 'rateexpirationdate', 'planid', 'ratingareaid', 'tobacco', 'age', 'individualrate', 'individualtobaccorate', 'couple', 'primarysubscriberandonedependent', 'primarysubscriberandtwodependents', 'primarysubscriberandthreeormoredependents', 'coupleandonedependent', 'coupleandtwodependents', 'coupleandthreeormoredependents']\n"
     ]
    }
   ],
   "source": [
    "# get all columns\n",
    "all_cols = df.columns.tolist()\n",
    "\n",
    "# print the columns\n",
    "print(all_cols)"
   ]
  },
  {
   "cell_type": "code",
   "execution_count": 27,
   "id": "6e541ce3",
   "metadata": {},
   "outputs": [
    {
     "name": "stdout",
     "output_type": "stream",
     "text": [
      "{'cells': [{'cell_type': 'code', 'execution_count': None, 'id': 'ea840c94', 'metadata': {}, 'outputs': [], 'source': ['fileType: csv\\n', 'fileName: rate-puf\\n', 'readDelimiter: \",\"\\n', 'writeDelimiter: \"|\"\\n', 'columns:\\n', '  - businessyear\\n', '  - statecode\\n', '  - issuerid\\n', '  - sourcename\\n', '  - importdate\\n', '  - rateeffectivedate\\n', '  - rateexpirationdate\\n', '  - planid\\n', '  - ratingareaid\\n', '  - tobacco\\n', '  - age\\n', '  - individualrate\\n', '  - individualtobaccorate\\n', '  - couple\\n', '  - primarysubscriberandonedependent\\n', '  - primarysubscriberandtwodependents\\n', '  - primarysubscriberandthreeormoredependents\\n', '  - coupleandonedependent\\n', '  - coupleandtwodependents\\n', '  - coupleandthreeormoredependents\\n']}], 'metadata': {'kernelspec': {'display_name': 'Python 3 (ipykernel)', 'language': 'python', 'name': 'python3'}, 'language_info': {'codemirror_mode': {'name': 'ipython', 'version': 3}, 'file_extension': '.py', 'mimetype': 'text/x-python', 'name': 'python', 'nbconvert_exporter': 'python', 'pygments_lexer': 'ipython3', 'version': '3.11.7'}}, 'nbformat': 4, 'nbformat_minor': 5}\n"
     ]
    }
   ],
   "source": [
    "import yaml\n",
    "\n",
    "with open(\"config.yaml\", \"r\") as file:\n",
    "    config_data = yaml.safe_load(file)\n",
    "\n",
    "print(config_data)  # Print to check structure\n"
   ]
  },
  {
   "cell_type": "code",
   "execution_count": 31,
   "id": "1d5f93bc",
   "metadata": {},
   "outputs": [
    {
     "name": "stdout",
     "output_type": "stream",
     "text": [
      "{'file_type': 'csv', 'dataset_name': 'file', 'file_name': 'rate-puf', 'table_name': 'edsurv', 'inbound_delimiter': ',', 'outbound_delimiter': '|', 'skip_leading_rows': 1, 'columns': ['BusinessYear', 'StateCode', 'IssuerId', 'SourceName', 'ImportDate', 'RateEffectiveDate', 'RateExpirationDate', 'PlanId', 'RatingAreaId', 'Tobacco', 'Age', 'IndividualRate', 'IndividualTobaccoRate', 'Couple', 'PrimarySubscriberAndOneDependent', 'PrimarySubscriberAndTwoDependents', 'PrimarySubscriberAndThreeOrMoreDependents', 'CoupleAndOneDependent', 'CoupleAndTwoDependents', 'CoupleAndThreeOrMoreDependents']}\n"
     ]
    }
   ],
   "source": [
    "import yaml\n",
    "\n",
    "# Open and read the YAML file\n",
    "with open(\"config.yaml\", \"r\") as file:\n",
    "    config_data = yaml.safe_load(file)\n",
    "\n",
    "# Print the loaded data to verify\n",
    "print(config_data)\n"
   ]
  },
  {
   "cell_type": "code",
   "execution_count": 38,
   "id": "5e2abed1",
   "metadata": {},
   "outputs": [
    {
     "name": "stdout",
     "output_type": "stream",
     "text": [
      "File Type: csv\n",
      "File Name: rate-puf\n",
      "Read Delimiter: ,\n",
      "Write Delimiter: |\n",
      "Columns: ['BusinessYear', 'StateCode', 'IssuerId', 'SourceName', 'ImportDate', 'RateEffectiveDate', 'RateExpirationDate', 'PlanId', 'RatingAreaId', 'Tobacco', 'Age', 'IndividualRate', 'IndividualTobaccoRate', 'Couple', 'PrimarySubscriberAndOneDependent', 'PrimarySubscriberAndTwoDependents', 'PrimarySubscriberAndThreeOrMoreDependents', 'CoupleAndOneDependent', 'CoupleAndTwoDependents', 'CoupleAndThreeOrMoreDependents']\n"
     ]
    }
   ],
   "source": [
    "file_type = config_data.get(\"file_type\")\n",
    "file_name = config_data.get(\"file_name\")\n",
    "read_delimiter = config_data.get(\"inbound_delimiter\")\n",
    "write_delimiter = config_data.get(\"outbound_delimiter\")\n",
    "columns = config_data.get(\"columns\")\n",
    "\n",
    "print(f\"File Type: {file_type}\")\n",
    "print(f\"File Name: {file_name}\")\n",
    "print(f\"Read Delimiter: {read_delimiter}\")\n",
    "print(f\"Write Delimiter: {write_delimiter}\")\n",
    "print(f\"Columns: {columns}\")\n"
   ]
  },
  {
   "cell_type": "code",
   "execution_count": 43,
   "id": "0fb8da17",
   "metadata": {},
   "outputs": [
    {
     "name": "stdout",
     "output_type": "stream",
     "text": [
      "C:\\Users\\Subhendu\n"
     ]
    }
   ],
   "source": [
    "import os\n",
    "print(os.getcwd())\n"
   ]
  },
  {
   "cell_type": "code",
   "execution_count": 50,
   "id": "a3540dbd",
   "metadata": {},
   "outputs": [],
   "source": [
    "df = pd.read_csv(\n",
    "    r\"C:\\Users\\Subhendu\\week6\\rate-puf.csv\", \n",
    "    delimiter=config_data[\"inbound_delimiter\"],\n",
    "    skiprows=config_data[\"skip_leading_rows\"]\n",
    ")\n"
   ]
  },
  {
   "cell_type": "code",
   "execution_count": 52,
   "id": "2ddf8cd0",
   "metadata": {},
   "outputs": [
    {
     "data": {
      "text/html": [
       "<div>\n",
       "<style scoped>\n",
       "    .dataframe tbody tr th:only-of-type {\n",
       "        vertical-align: middle;\n",
       "    }\n",
       "\n",
       "    .dataframe tbody tr th {\n",
       "        vertical-align: top;\n",
       "    }\n",
       "\n",
       "    .dataframe thead th {\n",
       "        text-align: right;\n",
       "    }\n",
       "</style>\n",
       "<table border=\"1\" class=\"dataframe\">\n",
       "  <thead>\n",
       "    <tr style=\"text-align: right;\">\n",
       "      <th></th>\n",
       "      <th>BusinessYear</th>\n",
       "      <th>StateCode</th>\n",
       "      <th>IssuerId</th>\n",
       "      <th>SourceName</th>\n",
       "      <th>ImportDate</th>\n",
       "      <th>RateEffectiveDate</th>\n",
       "      <th>RateExpirationDate</th>\n",
       "      <th>PlanId</th>\n",
       "      <th>RatingAreaId</th>\n",
       "      <th>Tobacco</th>\n",
       "      <th>Age</th>\n",
       "      <th>IndividualRate</th>\n",
       "      <th>IndividualTobaccoRate</th>\n",
       "      <th>Couple</th>\n",
       "      <th>PrimarySubscriberAndOneDependent</th>\n",
       "      <th>PrimarySubscriberAndTwoDependents</th>\n",
       "      <th>PrimarySubscriberAndThreeOrMoreDependents</th>\n",
       "      <th>CoupleAndOneDependent</th>\n",
       "      <th>CoupleAndTwoDependents</th>\n",
       "      <th>CoupleAndThreeOrMoreDependents</th>\n",
       "    </tr>\n",
       "  </thead>\n",
       "  <tbody>\n",
       "    <tr>\n",
       "      <th>0</th>\n",
       "      <td>2025</td>\n",
       "      <td>AK</td>\n",
       "      <td>21989</td>\n",
       "      <td>HIOS</td>\n",
       "      <td>2024-08-29 01:02:15</td>\n",
       "      <td>2025-10-01</td>\n",
       "      <td>2025-12-31</td>\n",
       "      <td>21989AK0130001</td>\n",
       "      <td>Rating Area 1</td>\n",
       "      <td>&lt;NA&gt;</td>\n",
       "      <td>Family Option</td>\n",
       "      <td>71.83</td>\n",
       "      <td>NaN</td>\n",
       "      <td>149.41</td>\n",
       "      <td>172.40</td>\n",
       "      <td>172.40</td>\n",
       "      <td>172.40</td>\n",
       "      <td>257.17</td>\n",
       "      <td>257.17</td>\n",
       "      <td>257.17</td>\n",
       "    </tr>\n",
       "    <tr>\n",
       "      <th>1</th>\n",
       "      <td>2025</td>\n",
       "      <td>AK</td>\n",
       "      <td>21989</td>\n",
       "      <td>HIOS</td>\n",
       "      <td>2024-08-29 01:02:15</td>\n",
       "      <td>2025-01-01</td>\n",
       "      <td>2025-03-31</td>\n",
       "      <td>21989AK0130001</td>\n",
       "      <td>Rating Area 1</td>\n",
       "      <td>&lt;NA&gt;</td>\n",
       "      <td>Family Option</td>\n",
       "      <td>69.24</td>\n",
       "      <td>NaN</td>\n",
       "      <td>144.02</td>\n",
       "      <td>166.17</td>\n",
       "      <td>166.17</td>\n",
       "      <td>166.17</td>\n",
       "      <td>247.87</td>\n",
       "      <td>247.87</td>\n",
       "      <td>247.87</td>\n",
       "    </tr>\n",
       "    <tr>\n",
       "      <th>2</th>\n",
       "      <td>2025</td>\n",
       "      <td>AK</td>\n",
       "      <td>21989</td>\n",
       "      <td>HIOS</td>\n",
       "      <td>2024-08-29 01:02:15</td>\n",
       "      <td>2025-04-01</td>\n",
       "      <td>2025-06-30</td>\n",
       "      <td>21989AK0130001</td>\n",
       "      <td>Rating Area 1</td>\n",
       "      <td>&lt;NA&gt;</td>\n",
       "      <td>Family Option</td>\n",
       "      <td>70.10</td>\n",
       "      <td>NaN</td>\n",
       "      <td>145.81</td>\n",
       "      <td>168.25</td>\n",
       "      <td>168.25</td>\n",
       "      <td>168.25</td>\n",
       "      <td>250.97</td>\n",
       "      <td>250.97</td>\n",
       "      <td>250.97</td>\n",
       "    </tr>\n",
       "    <tr>\n",
       "      <th>3</th>\n",
       "      <td>2025</td>\n",
       "      <td>AK</td>\n",
       "      <td>21989</td>\n",
       "      <td>HIOS</td>\n",
       "      <td>2024-08-29 01:02:15</td>\n",
       "      <td>2025-07-01</td>\n",
       "      <td>2025-09-30</td>\n",
       "      <td>21989AK0130001</td>\n",
       "      <td>Rating Area 1</td>\n",
       "      <td>&lt;NA&gt;</td>\n",
       "      <td>Family Option</td>\n",
       "      <td>70.97</td>\n",
       "      <td>NaN</td>\n",
       "      <td>147.62</td>\n",
       "      <td>170.33</td>\n",
       "      <td>170.33</td>\n",
       "      <td>170.33</td>\n",
       "      <td>254.07</td>\n",
       "      <td>254.07</td>\n",
       "      <td>254.07</td>\n",
       "    </tr>\n",
       "    <tr>\n",
       "      <th>4</th>\n",
       "      <td>2025</td>\n",
       "      <td>AK</td>\n",
       "      <td>21989</td>\n",
       "      <td>HIOS</td>\n",
       "      <td>2024-08-29 01:02:15</td>\n",
       "      <td>2025-07-01</td>\n",
       "      <td>2025-09-30</td>\n",
       "      <td>21989AK0130001</td>\n",
       "      <td>Rating Area 2</td>\n",
       "      <td>&lt;NA&gt;</td>\n",
       "      <td>Family Option</td>\n",
       "      <td>67.42</td>\n",
       "      <td>NaN</td>\n",
       "      <td>140.23</td>\n",
       "      <td>161.81</td>\n",
       "      <td>161.81</td>\n",
       "      <td>161.81</td>\n",
       "      <td>241.36</td>\n",
       "      <td>241.36</td>\n",
       "      <td>241.36</td>\n",
       "    </tr>\n",
       "  </tbody>\n",
       "</table>\n",
       "</div>"
      ],
      "text/plain": [
       "   BusinessYear StateCode  IssuerId SourceName           ImportDate  \\\n",
       "0          2025        AK     21989       HIOS  2024-08-29 01:02:15   \n",
       "1          2025        AK     21989       HIOS  2024-08-29 01:02:15   \n",
       "2          2025        AK     21989       HIOS  2024-08-29 01:02:15   \n",
       "3          2025        AK     21989       HIOS  2024-08-29 01:02:15   \n",
       "4          2025        AK     21989       HIOS  2024-08-29 01:02:15   \n",
       "\n",
       "  RateEffectiveDate RateExpirationDate          PlanId   RatingAreaId Tobacco  \\\n",
       "0        2025-10-01         2025-12-31  21989AK0130001  Rating Area 1    <NA>   \n",
       "1        2025-01-01         2025-03-31  21989AK0130001  Rating Area 1    <NA>   \n",
       "2        2025-04-01         2025-06-30  21989AK0130001  Rating Area 1    <NA>   \n",
       "3        2025-07-01         2025-09-30  21989AK0130001  Rating Area 1    <NA>   \n",
       "4        2025-07-01         2025-09-30  21989AK0130001  Rating Area 2    <NA>   \n",
       "\n",
       "             Age  IndividualRate  IndividualTobaccoRate  Couple  \\\n",
       "0  Family Option           71.83                    NaN  149.41   \n",
       "1  Family Option           69.24                    NaN  144.02   \n",
       "2  Family Option           70.10                    NaN  145.81   \n",
       "3  Family Option           70.97                    NaN  147.62   \n",
       "4  Family Option           67.42                    NaN  140.23   \n",
       "\n",
       "   PrimarySubscriberAndOneDependent  PrimarySubscriberAndTwoDependents  \\\n",
       "0                            172.40                             172.40   \n",
       "1                            166.17                             166.17   \n",
       "2                            168.25                             168.25   \n",
       "3                            170.33                             170.33   \n",
       "4                            161.81                             161.81   \n",
       "\n",
       "   PrimarySubscriberAndThreeOrMoreDependents  CoupleAndOneDependent  \\\n",
       "0                                     172.40                 257.17   \n",
       "1                                     166.17                 247.87   \n",
       "2                                     168.25                 250.97   \n",
       "3                                     170.33                 254.07   \n",
       "4                                     161.81                 241.36   \n",
       "\n",
       "   CoupleAndTwoDependents  CoupleAndThreeOrMoreDependents  \n",
       "0                  257.17                          257.17  \n",
       "1                  247.87                          247.87  \n",
       "2                  250.97                          250.97  \n",
       "3                  254.07                          254.07  \n",
       "4                  241.36                          241.36  "
      ]
     },
     "execution_count": 52,
     "metadata": {},
     "output_type": "execute_result"
    }
   ],
   "source": [
    "import dask.dataframe as dd\n",
    "\n",
    "# Specify the dtype for the \"Tobacco\" column to be an object (string)\n",
    "df_sample = dd.read_csv(\n",
    "    r'C:\\Users\\Subhendu\\week6\\rate-puf.csv', \n",
    "    delimiter=',', \n",
    "    dtype={'Tobacco': 'object'}  # Explicitly set the dtype for the \"Tobacco\" column\n",
    ")\n",
    "\n",
    "# Display the first few rows\n",
    "df_sample.head()\n"
   ]
  },
  {
   "cell_type": "code",
   "execution_count": 55,
   "id": "f2f1d501",
   "metadata": {},
   "outputs": [],
   "source": [
    "def col_header_val(df, config_data):\n",
    "    # Extract the column names from config_data\n",
    "    expected_columns = config_data.get(\"columns\", [])\n",
    "    \n",
    "    # Extract the column names from the dataframe\n",
    "    actual_columns = df.columns.tolist()\n",
    "    \n",
    "    # Check if the actual columns match the expected columns\n",
    "    if actual_columns == expected_columns:\n",
    "        print(\"The header is valid.\")\n",
    "    else:\n",
    "        print(\"The header is invalid.\")\n",
    "        print(f\"Expected columns: {expected_columns}\")\n",
    "        print(f\"Actual columns: {actual_columns}\")\n"
   ]
  },
  {
   "cell_type": "code",
   "execution_count": 57,
   "id": "0315d0c4",
   "metadata": {},
   "outputs": [
    {
     "name": "stdout",
     "output_type": "stream",
     "text": [
      "columns of files are: Index(['2025', 'AK', '21989', 'HIOS', '2024-08-29 01:02:15', '2025-10-01',\n",
      "       '2025-12-31', '21989AK0130001', 'Rating Area 1', 'Unnamed: 9',\n",
      "       'Family Option', '71.83', 'Unnamed: 12', '149.41', '172.4', '172.4.1',\n",
      "       '172.4.2', '257.17', '257.17.1', '257.17.2'],\n",
      "      dtype='object')\n",
      "columns of YAML are: ['BusinessYear', 'StateCode', 'IssuerId', 'SourceName', 'ImportDate', 'RateEffectiveDate', 'RateExpirationDate', 'PlanId', 'RatingAreaId', 'Tobacco', 'Age', 'IndividualRate', 'IndividualTobaccoRate', 'Couple', 'PrimarySubscriberAndOneDependent', 'PrimarySubscriberAndTwoDependents', 'PrimarySubscriberAndThreeOrMoreDependents', 'CoupleAndOneDependent', 'CoupleAndTwoDependents', 'CoupleAndThreeOrMoreDependents']\n"
     ]
    }
   ],
   "source": [
    "print(\"columns of files are:\" ,df.columns)\n",
    "print(\"columns of YAML are:\" ,config_data['columns'])"
   ]
  },
  {
   "cell_type": "code",
   "execution_count": 61,
   "id": "4ada1df2",
   "metadata": {},
   "outputs": [
    {
     "name": "stdout",
     "output_type": "stream",
     "text": [
      "The header is invalid.\n",
      "Expected columns: ['BusinessYear', 'StateCode', 'IssuerId', 'SourceName', 'ImportDate', 'RateEffectiveDate', 'RateExpirationDate', 'PlanId', 'RatingAreaId', 'Tobacco', 'Age', 'IndividualRate', 'IndividualTobaccoRate', 'Couple', 'PrimarySubscriberAndOneDependent', 'PrimarySubscriberAndTwoDependents', 'PrimarySubscriberAndThreeOrMoreDependents', 'CoupleAndOneDependent', 'CoupleAndTwoDependents', 'CoupleAndThreeOrMoreDependents']\n",
      "Actual columns: ['2025', 'AK', '21989', 'HIOS', '2024-08-29 01:02:15', '2025-10-01', '2025-12-31', '21989AK0130001', 'Rating Area 1', 'Unnamed: 9', 'Family Option', '71.83', 'Unnamed: 12', '149.41', '172.4', '172.4.1', '172.4.2', '257.17', '257.17.1', '257.17.2']\n",
      "Validation failed\n"
     ]
    }
   ],
   "source": [
    "# Validate the header of the DataFrame directly without 'util'\n",
    "if col_header_val(df, config_data) == 0:\n",
    "    print(\"Validation failed\")\n",
    "else:\n",
    "    print(\"Column validation passed\")\n"
   ]
  },
  {
   "cell_type": "code",
   "execution_count": 64,
   "id": "328cb069",
   "metadata": {},
   "outputs": [
    {
     "name": "stdout",
     "output_type": "stream",
     "text": [
      "Requirement already satisfied: dask in c:\\users\\subhendu\\anaconda3\\lib\\site-packages (2023.11.0)\n",
      "Requirement already satisfied: click>=8.1 in c:\\users\\subhendu\\anaconda3\\lib\\site-packages (from dask) (8.1.7)\n",
      "Requirement already satisfied: cloudpickle>=1.5.0 in c:\\users\\subhendu\\anaconda3\\lib\\site-packages (from dask) (2.2.1)\n",
      "Requirement already satisfied: fsspec>=2021.09.0 in c:\\users\\subhendu\\anaconda3\\lib\\site-packages (from dask) (2023.10.0)\n",
      "Requirement already satisfied: packaging>=20.0 in c:\\users\\subhendu\\anaconda3\\lib\\site-packages (from dask) (23.1)\n",
      "Requirement already satisfied: partd>=1.2.0 in c:\\users\\subhendu\\anaconda3\\lib\\site-packages (from dask) (1.4.1)\n",
      "Requirement already satisfied: pyyaml>=5.3.1 in c:\\users\\subhendu\\anaconda3\\lib\\site-packages (from dask) (6.0.1)\n",
      "Requirement already satisfied: toolz>=0.10.0 in c:\\users\\subhendu\\anaconda3\\lib\\site-packages (from dask) (0.12.0)\n",
      "Requirement already satisfied: importlib-metadata>=4.13.0 in c:\\users\\subhendu\\anaconda3\\lib\\site-packages (from dask) (7.0.1)\n",
      "Requirement already satisfied: colorama in c:\\users\\subhendu\\anaconda3\\lib\\site-packages (from click>=8.1->dask) (0.4.6)\n",
      "Requirement already satisfied: zipp>=0.5 in c:\\users\\subhendu\\anaconda3\\lib\\site-packages (from importlib-metadata>=4.13.0->dask) (3.17.0)\n",
      "Requirement already satisfied: locket in c:\\users\\subhendu\\anaconda3\\lib\\site-packages (from partd>=1.2.0->dask) (1.0.0)\n",
      "Note: you may need to restart the kernel to use updated packages.\n"
     ]
    }
   ],
   "source": [
    "pip install dask\n"
   ]
  },
  {
   "cell_type": "code",
   "execution_count": 67,
   "id": "a495cac0",
   "metadata": {},
   "outputs": [
    {
     "data": {
      "text/plain": [
       "['C:\\\\Users\\\\Subhendu\\\\rate-puf.csv.gz\\\\0.part',\n",
       " 'C:\\\\Users\\\\Subhendu\\\\rate-puf.csv.gz\\\\1.part',\n",
       " 'C:\\\\Users\\\\Subhendu\\\\rate-puf.csv.gz\\\\2.part',\n",
       " 'C:\\\\Users\\\\Subhendu\\\\rate-puf.csv.gz\\\\3.part',\n",
       " 'C:\\\\Users\\\\Subhendu\\\\rate-puf.csv.gz\\\\4.part']"
      ]
     },
     "execution_count": 67,
     "metadata": {},
     "output_type": "execute_result"
    }
   ],
   "source": [
    "import datetime\n",
    "import csv\n",
    "from dask import dataframe as dd\n",
    "\n",
    "# Specify the dtype for the 'Tobacco' column\n",
    "df = dd.read_csv(r'C:\\Users\\Subhendu\\week6\\rate-puf.csv', \n",
    "                 delimiter=',', \n",
    "                 dtype={'Tobacco': 'object'})  # Specify 'Tobacco' as an object type\n",
    "\n",
    "# Write the DataFrame to a compressed .gz CSV file with pipe separators\n",
    "df.to_csv('rate-puf.csv.gz',  # Specify the output path and filename\n",
    "          sep='|',              # Use pipe ('|') as the separator\n",
    "          header=True,          # Include the header row in the output\n",
    "          index=False,          # Don't write row indices\n",
    "          quoting=csv.QUOTE_ALL,  # Quote all fields\n",
    "          compression='gzip',    # Apply gzip compression\n",
    "          quotechar='\"',         # Character to quote fields\n",
    "          doublequote=True)      # Allow double quotes within quoted fields\n"
   ]
  },
  {
   "cell_type": "code",
   "execution_count": null,
   "id": "86b0fafa",
   "metadata": {},
   "outputs": [],
   "source": []
  },
  {
   "cell_type": "code",
   "execution_count": 74,
   "id": "4c5a9cf6",
   "metadata": {},
   "outputs": [
    {
     "data": {
      "text/plain": [
       "['C:\\\\Users\\\\Subhendu\\\\week6\\\\rate-puf.csv.gz\\\\0.part',\n",
       " 'C:\\\\Users\\\\Subhendu\\\\week6\\\\rate-puf.csv.gz\\\\1.part',\n",
       " 'C:\\\\Users\\\\Subhendu\\\\week6\\\\rate-puf.csv.gz\\\\2.part',\n",
       " 'C:\\\\Users\\\\Subhendu\\\\week6\\\\rate-puf.csv.gz\\\\3.part',\n",
       " 'C:\\\\Users\\\\Subhendu\\\\week6\\\\rate-puf.csv.gz\\\\4.part']"
      ]
     },
     "execution_count": 74,
     "metadata": {},
     "output_type": "execute_result"
    }
   ],
   "source": [
    "import dask.dataframe as dd\n",
    "import csv\n",
    "\n",
    "# Read the CSV with explicit dtype for the 'Tobacco' column\n",
    "df = dd.read_csv(r'C:\\Users\\Subhendu\\week6\\rate-puf.csv', delimiter=',', dtype={'Tobacco': 'object'})\n",
    "\n",
    "# Save as gzipped CSV with pipe separator\n",
    "df.to_csv(r'C:\\Users\\Subhendu\\week6\\rate-puf.csv.gz', \n",
    "          sep='|',              # Using pipe as separator\n",
    "          header=True,          # Include header\n",
    "          index=False,          # Exclude index column\n",
    "          compression='gzip',    # Apply gzip compression\n",
    "          quoting=csv.QUOTE_ALL) # Quote all fields\n"
   ]
  },
  {
   "cell_type": "code",
   "execution_count": 75,
   "id": "bddd3e38",
   "metadata": {},
   "outputs": [
    {
     "name": "stdout",
     "output_type": "stream",
     "text": [
      "Files combined successfully.\n"
     ]
    }
   ],
   "source": [
    "import gzip\n",
    "import shutil\n",
    "\n",
    "# List of .part files\n",
    "part_files = [\n",
    "    r'C:\\Users\\Subhendu\\week6\\rate-puf.csv.gz\\0.part',\n",
    "    r'C:\\Users\\Subhendu\\week6\\rate-puf.csv.gz\\1.part',\n",
    "    r'C:\\Users\\Subhendu\\week6\\rate-puf.csv.gz\\2.part',\n",
    "    r'C:\\Users\\Subhendu\\week6\\rate-puf.csv.gz\\3.part',\n",
    "    r'C:\\Users\\Subhendu\\week6\\rate-puf.csv.gz\\4.part'\n",
    "]\n",
    "\n",
    "# Output path for the final combined file\n",
    "output_file = r'C:\\Users\\Subhendu\\week6\\rate-puf-combined.csv.gz'\n",
    "\n",
    "# Combine the .part files into one .gz file\n",
    "with gzip.open(output_file, 'wb') as f_out:\n",
    "    for part_file in part_files:\n",
    "        with open(part_file, 'rb') as f_in:\n",
    "            shutil.copyfileobj(f_in, f_out)\n",
    "\n",
    "print(\"Files combined successfully.\")\n"
   ]
  },
  {
   "cell_type": "code",
   "execution_count": 76,
   "id": "4a428ce4",
   "metadata": {},
   "outputs": [
    {
     "name": "stdout",
     "output_type": "stream",
     "text": [
      "0.part\n",
      "1.part\n",
      "2.part\n",
      "3.part\n",
      "4.part\n"
     ]
    }
   ],
   "source": [
    "#number of files in gz format folder\n",
    "import os\n",
    "entries = os.listdir(r'C:\\Users\\Subhendu\\week6\\rate-puf.csv.gz/')\n",
    "for entry in entries:\n",
    "    print(entry)"
   ]
  },
  {
   "cell_type": "code",
   "execution_count": 79,
   "id": "cef4e65b",
   "metadata": {},
   "outputs": [
    {
     "data": {
      "text/plain": [
       "4096"
      ]
     },
     "execution_count": 79,
     "metadata": {},
     "output_type": "execute_result"
    }
   ],
   "source": [
    "#size of the gz format folder\n",
    "os.path.getsize(r'C:\\Users\\Subhendu\\week6\\rate-puf.csv.gz')"
   ]
  },
  {
   "cell_type": "code",
   "execution_count": null,
   "id": "51460fb2",
   "metadata": {},
   "outputs": [],
   "source": []
  }
 ],
 "metadata": {
  "kernelspec": {
   "display_name": "Python 3 (ipykernel)",
   "language": "python",
   "name": "python3"
  },
  "language_info": {
   "codemirror_mode": {
    "name": "ipython",
    "version": 3
   },
   "file_extension": ".py",
   "mimetype": "text/x-python",
   "name": "python",
   "nbconvert_exporter": "python",
   "pygments_lexer": "ipython3",
   "version": "3.11.7"
  }
 },
 "nbformat": 4,
 "nbformat_minor": 5
}
